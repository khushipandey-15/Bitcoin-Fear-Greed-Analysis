{
  "cells": [
    {
      "cell_type": "markdown",
      "metadata": {},
      "source": [
        "# Bitcoin Fear & Greed Index Analysis\n",
        "\n",
        "This notebook analyzes the relationship between the Bitcoin Fear & Greed Index and Bitcoin price movements.\n",
        "\n",
        "## Google Colab Setup\n",
        "This notebook is configured to run in Google Colab. Follow the steps below to set up your environment."
      ]
    },
    {
      "cell_type": "code",
      "execution_count": 3,
      "metadata": {
        "id": "ieQU7kCA7ZIe"
      },
      "outputs": [],
      "source": [
        "import os\n",
        "import math\n",
        "import numpy as np\n",
        "import pandas as pd\n",
        "import matplotlib.pyplot as plt\n",
        "from datetime import datetime"
      ]
    },
    {
      "cell_type": "markdown",
      "metadata": {
        "id": "e_iOdxo-8Y7S"
      },
      "source": [
        "# Install Required Packages\n",
        "\n",
        "Run the cell below to install the necessary packages:"
      ]
    },
    {
      "cell_type": "code",
      "execution_count": 4,
      "metadata": {},
      "outputs": [
        {
          "name": "stdout",
          "output_type": "stream",
          "text": [
            "Requirement already satisfied: yfinance in c:\\users\\khush\\onedrive\\documents\\ds_khushbookumari\\.venv\\lib\\site-packages (0.2.65)\n",
            "Requirement already satisfied: pandas in c:\\users\\khush\\onedrive\\documents\\ds_khushbookumari\\.venv\\lib\\site-packages (2.3.1)\n",
            "Requirement already satisfied: numpy in c:\\users\\khush\\onedrive\\documents\\ds_khushbookumari\\.venv\\lib\\site-packages (2.3.2)\n",
            "Requirement already satisfied: matplotlib in c:\\users\\khush\\onedrive\\documents\\ds_khushbookumari\\.venv\\lib\\site-packages (3.10.5)\n",
            "Requirement already satisfied: scipy in c:\\users\\khush\\onedrive\\documents\\ds_khushbookumari\\.venv\\lib\\site-packages (1.16.1)\n",
            "Requirement already satisfied: scikit-learn in c:\\users\\khush\\onedrive\\documents\\ds_khushbookumari\\.venv\\lib\\site-packages (1.7.1)\n",
            "Requirement already satisfied: statsmodels in c:\\users\\khush\\onedrive\\documents\\ds_khushbookumari\\.venv\\lib\\site-packages (0.14.5)\n",
            "Requirement already satisfied: requests>=2.31 in c:\\users\\khush\\onedrive\\documents\\ds_khushbookumari\\.venv\\lib\\site-packages (from yfinance) (2.32.5)\n",
            "Requirement already satisfied: multitasking>=0.0.7 in c:\\users\\khush\\onedrive\\documents\\ds_khushbookumari\\.venv\\lib\\site-packages (from yfinance) (0.0.12)\n",
            "Requirement already satisfied: platformdirs>=2.0.0 in c:\\users\\khush\\onedrive\\documents\\ds_khushbookumari\\.venv\\lib\\site-packages (from yfinance) (4.3.8)\n",
            "Requirement already satisfied: pytz>=2022.5 in c:\\users\\khush\\onedrive\\documents\\ds_khushbookumari\\.venv\\lib\\site-packages (from yfinance) (2025.2)\n",
            "Requirement already satisfied: frozendict>=2.3.4 in c:\\users\\khush\\onedrive\\documents\\ds_khushbookumari\\.venv\\lib\\site-packages (from yfinance) (2.4.6)\n",
            "Requirement already satisfied: peewee>=3.16.2 in c:\\users\\khush\\onedrive\\documents\\ds_khushbookumari\\.venv\\lib\\site-packages (from yfinance) (3.18.2)\n",
            "Requirement already satisfied: beautifulsoup4>=4.11.1 in c:\\users\\khush\\onedrive\\documents\\ds_khushbookumari\\.venv\\lib\\site-packages (from yfinance) (4.13.4)\n",
            "Requirement already satisfied: curl_cffi>=0.7 in c:\\users\\khush\\onedrive\\documents\\ds_khushbookumari\\.venv\\lib\\site-packages (from yfinance) (0.13.0)\n",
            "Requirement already satisfied: protobuf>=3.19.0 in c:\\users\\khush\\onedrive\\documents\\ds_khushbookumari\\.venv\\lib\\site-packages (from yfinance) (6.32.0)\n",
            "Requirement already satisfied: websockets>=13.0 in c:\\users\\khush\\onedrive\\documents\\ds_khushbookumari\\.venv\\lib\\site-packages (from yfinance) (15.0.1)\n",
            "Requirement already satisfied: python-dateutil>=2.8.2 in c:\\users\\khush\\onedrive\\documents\\ds_khushbookumari\\.venv\\lib\\site-packages (from pandas) (2.9.0.post0)\n",
            "Requirement already satisfied: tzdata>=2022.7 in c:\\users\\khush\\onedrive\\documents\\ds_khushbookumari\\.venv\\lib\\site-packages (from pandas) (2025.2)\n",
            "Requirement already satisfied: contourpy>=1.0.1 in c:\\users\\khush\\onedrive\\documents\\ds_khushbookumari\\.venv\\lib\\site-packages (from matplotlib) (1.3.3)\n",
            "Requirement already satisfied: cycler>=0.10 in c:\\users\\khush\\onedrive\\documents\\ds_khushbookumari\\.venv\\lib\\site-packages (from matplotlib) (0.12.1)\n",
            "Requirement already satisfied: fonttools>=4.22.0 in c:\\users\\khush\\onedrive\\documents\\ds_khushbookumari\\.venv\\lib\\site-packages (from matplotlib) (4.59.1)\n",
            "Requirement already satisfied: kiwisolver>=1.3.1 in c:\\users\\khush\\onedrive\\documents\\ds_khushbookumari\\.venv\\lib\\site-packages (from matplotlib) (1.4.9)\n",
            "Requirement already satisfied: packaging>=20.0 in c:\\users\\khush\\onedrive\\documents\\ds_khushbookumari\\.venv\\lib\\site-packages (from matplotlib) (25.0)\n",
            "Requirement already satisfied: pillow>=8 in c:\\users\\khush\\onedrive\\documents\\ds_khushbookumari\\.venv\\lib\\site-packages (from matplotlib) (11.3.0)\n",
            "Requirement already satisfied: pyparsing>=2.3.1 in c:\\users\\khush\\onedrive\\documents\\ds_khushbookumari\\.venv\\lib\\site-packages (from matplotlib) (3.2.3)\n",
            "Requirement already satisfied: joblib>=1.2.0 in c:\\users\\khush\\onedrive\\documents\\ds_khushbookumari\\.venv\\lib\\site-packages (from scikit-learn) (1.5.1)\n",
            "Requirement already satisfied: threadpoolctl>=3.1.0 in c:\\users\\khush\\onedrive\\documents\\ds_khushbookumari\\.venv\\lib\\site-packages (from scikit-learn) (3.6.0)\n",
            "Requirement already satisfied: patsy>=0.5.6 in c:\\users\\khush\\onedrive\\documents\\ds_khushbookumari\\.venv\\lib\\site-packages (from statsmodels) (1.0.1)\n",
            "Requirement already satisfied: soupsieve>1.2 in c:\\users\\khush\\onedrive\\documents\\ds_khushbookumari\\.venv\\lib\\site-packages (from beautifulsoup4>=4.11.1->yfinance) (2.7)\n",
            "Requirement already satisfied: typing-extensions>=4.0.0 in c:\\users\\khush\\onedrive\\documents\\ds_khushbookumari\\.venv\\lib\\site-packages (from beautifulsoup4>=4.11.1->yfinance) (4.14.1)\n",
            "Requirement already satisfied: cffi>=1.12.0 in c:\\users\\khush\\onedrive\\documents\\ds_khushbookumari\\.venv\\lib\\site-packages (from curl_cffi>=0.7->yfinance) (1.17.1)\n",
            "Requirement already satisfied: certifi>=2024.2.2 in c:\\users\\khush\\onedrive\\documents\\ds_khushbookumari\\.venv\\lib\\site-packages (from curl_cffi>=0.7->yfinance) (2025.8.3)\n",
            "Requirement already satisfied: pycparser in c:\\users\\khush\\onedrive\\documents\\ds_khushbookumari\\.venv\\lib\\site-packages (from cffi>=1.12.0->curl_cffi>=0.7->yfinance) (2.22)\n",
            "Requirement already satisfied: six>=1.5 in c:\\users\\khush\\onedrive\\documents\\ds_khushbookumari\\.venv\\lib\\site-packages (from python-dateutil>=2.8.2->pandas) (1.17.0)\n",
            "Requirement already satisfied: charset_normalizer<4,>=2 in c:\\users\\khush\\onedrive\\documents\\ds_khushbookumari\\.venv\\lib\\site-packages (from requests>=2.31->yfinance) (3.4.3)\n",
            "Requirement already satisfied: idna<4,>=2.5 in c:\\users\\khush\\onedrive\\documents\\ds_khushbookumari\\.venv\\lib\\site-packages (from requests>=2.31->yfinance) (3.10)\n",
            "Requirement already satisfied: urllib3<3,>=1.21.1 in c:\\users\\khush\\onedrive\\documents\\ds_khushbookumari\\.venv\\lib\\site-packages (from requests>=2.31->yfinance) (2.5.0)\n"
          ]
        }
      ],
      "source": [
        "# Install required packages\n",
        "!pip install yfinance pandas numpy matplotlib scipy scikit-learn statsmodels"
      ]
    },
    {
      "cell_type": "code",
      "execution_count": 5,
      "metadata": {
        "id": "VSWykkcK7ywB"
      },
      "outputs": [],
      "source": [
        "try:\n",
        "   import yfinance as yf\n",
        "except Exception:\n",
        "  yf = None\n",
        "\n",
        "\n",
        "from scipy import stats"
      ]
    },
    {
      "cell_type": "markdown",
      "metadata": {
        "id": "-Pj60e-58biY"
      },
      "source": [
        "CONFIG / HYPERPARAMETERS"
      ]
    },
    {
      "cell_type": "code",
      "execution_count": 6,
      "metadata": {
        "id": "Nhs2qrFY8AnF"
      },
      "outputs": [],
      "source": [
        "START_DATE = '2015-01-01'\n",
        "END_DATE = None\n",
        "TX_COST_BPS = 10\n",
        "RISK_FREE = 0.0\n",
        "MAX_PLOTS = True\n",
        "PRICE_TICKER = 'BTC-USD'\n",
        "LOCAL_PRICE_CSV = None"
      ]
    },
    {
      "cell_type": "markdown",
      "metadata": {
        "id": "atD6E5fQ8gMU"
      },
      "source": [
        "LOAD SENTIMENT DATA"
      ]
    },
    {
      "cell_type": "markdown",
      "metadata": {},
      "source": [
        "# Upload Fear & Greed Index Data\n",
        "\n",
        "Upload the `fear_greed_index.csv` file from your local machine:"
      ]
    },
    {
      "cell_type": "code",
      "execution_count": 1,
      "metadata": {},
      "outputs": [
        {
          "name": "stdout",
          "output_type": "stream",
          "text": [
            "Looking for file at: c:\\Users\\Khush\\OneDrive\\Documents\\ds_khushbooKumari\\csv_files\\fear_greed_index.csv\n",
            "File exists: True\n"
          ]
        }
      ],
      "source": [
        "# Load the fear and greed index CSV file from local path\n",
        "import os\n",
        "\n",
        "# Define the path to the CSV file\n",
        "fear_greed_csv_path = os.path.join(os.path.dirname(os.path.abspath('__file__')), 'csv_files', 'fear_greed_index.csv')\n",
        "\n",
        "# Verify the file exists\n",
        "print(f\"Looking for file at: {fear_greed_csv_path}\")\n",
        "print(f\"File exists: {os.path.exists(fear_greed_csv_path)}\")"
      ]
    },
    {
      "cell_type": "code",
      "execution_count": 7,
      "metadata": {
        "id": "rFkEZhGn8i0q"
      },
      "outputs": [
        {
          "name": "stdout",
          "output_type": "stream",
          "text": [
            "First 5 rows of the fear & greed index data:\n"
          ]
        },
        {
          "data": {
            "text/html": [
              "<div>\n",
              "<style scoped>\n",
              "    .dataframe tbody tr th:only-of-type {\n",
              "        vertical-align: middle;\n",
              "    }\n",
              "\n",
              "    .dataframe tbody tr th {\n",
              "        vertical-align: top;\n",
              "    }\n",
              "\n",
              "    .dataframe thead th {\n",
              "        text-align: right;\n",
              "    }\n",
              "</style>\n",
              "<table border=\"1\" class=\"dataframe\">\n",
              "  <thead>\n",
              "    <tr style=\"text-align: right;\">\n",
              "      <th></th>\n",
              "      <th>Timestamp</th>\n",
              "      <th>Value</th>\n",
              "      <th>Classification</th>\n",
              "      <th>Date</th>\n",
              "    </tr>\n",
              "  </thead>\n",
              "  <tbody>\n",
              "    <tr>\n",
              "      <th>0</th>\n",
              "      <td>1517463000</td>\n",
              "      <td>30</td>\n",
              "      <td>Fear</td>\n",
              "      <td>2018-02-01</td>\n",
              "    </tr>\n",
              "    <tr>\n",
              "      <th>1</th>\n",
              "      <td>1517549400</td>\n",
              "      <td>15</td>\n",
              "      <td>Extreme Fear</td>\n",
              "      <td>2018-02-02</td>\n",
              "    </tr>\n",
              "    <tr>\n",
              "      <th>2</th>\n",
              "      <td>1517635800</td>\n",
              "      <td>40</td>\n",
              "      <td>Fear</td>\n",
              "      <td>2018-02-03</td>\n",
              "    </tr>\n",
              "    <tr>\n",
              "      <th>3</th>\n",
              "      <td>1517722200</td>\n",
              "      <td>24</td>\n",
              "      <td>Extreme Fear</td>\n",
              "      <td>2018-02-04</td>\n",
              "    </tr>\n",
              "    <tr>\n",
              "      <th>4</th>\n",
              "      <td>1517808600</td>\n",
              "      <td>11</td>\n",
              "      <td>Extreme Fear</td>\n",
              "      <td>2018-02-05</td>\n",
              "    </tr>\n",
              "  </tbody>\n",
              "</table>\n",
              "</div>"
            ],
            "text/plain": [
              "    Timestamp  Value Classification       Date\n",
              "0  1517463000     30           Fear 2018-02-01\n",
              "1  1517549400     15   Extreme Fear 2018-02-02\n",
              "2  1517635800     40           Fear 2018-02-03\n",
              "3  1517722200     24   Extreme Fear 2018-02-04\n",
              "4  1517808600     11   Extreme Fear 2018-02-05"
            ]
          },
          "metadata": {},
          "output_type": "display_data"
        }
      ],
      "source": [
        "sent = pd.read_csv(fear_greed_csv_path)\n",
        "sent.columns = [c.strip().title() for c in sent.columns]\n",
        "if 'Date' not in sent.columns or 'Classification' not in sent.columns:\n",
        "   raise ValueError(\"fear_greed_index.csv must contain 'Date' and 'Classification' columns.\")\n",
        "\n",
        "\n",
        "sent['Date'] = pd.to_datetime(sent['Date'], errors='coerce').dt.tz_localize(None)\n",
        "sent = sent.dropna(subset=['Date']).sort_values('Date').reset_index(drop=True)\n",
        "\n",
        "\n",
        "# Display the first few rows to confirm the data loaded correctly\n",
        "print(\"First 5 rows of the fear & greed index data:\")\n",
        "display(sent.head())"
      ]
    },
    {
      "cell_type": "markdown",
      "metadata": {
        "id": "I6MaPuOp87WL"
      },
      "source": [
        "Normalize labels"
      ]
    },
    {
      "cell_type": "code",
      "execution_count": 8,
      "metadata": {
        "id": "WCO7wVD188ow"
      },
      "outputs": [],
      "source": [
        "sent['Classification'] = sent['Classification'].str.strip().str.title()\n",
        "# Map to numeric score (0=Fear, 1=Greed). Unrecognized labels become NaN\n",
        "label_map = {'Fear': 0, 'Greed': 1}\n",
        "sent['SentimentScore'] = sent['Classification'].map(label_map)\n",
        "\n",
        "\n",
        "# If there is also a numeric index column (sometimes provided), try to use it\n",
        "for candidate in ['Value', 'Index', 'Score', 'Fgi', 'FearGreedIndex']:\n",
        "  if candidate in sent.columns and pd.api.types.is_numeric_dtype(sent[candidate]):\n",
        "      sent['SentimentIndex'] = pd.to_numeric(sent[candidate], errors='coerce')\n",
        "      break\n",
        "  else:\n",
        "# fallback: scale binary score so we still have a numeric index (0/100)\n",
        "   sent['SentimentIndex'] = sent['SentimentScore'] * 100"
      ]
    },
    {
      "cell_type": "markdown",
      "metadata": {
        "id": "Qp8QOPB39XHi"
      },
      "source": [
        "LOAD BTC PRICES"
      ]
    },
    {
      "cell_type": "code",
      "execution_count": 9,
      "metadata": {
        "colab": {
          "base_uri": "https://localhost:8080/"
        },
        "id": "L1Q2L1b79Ybr",
        "outputId": "f750fc8a-f747-4438-c22c-d358bfc9adb8"
      },
      "outputs": [
        {
          "name": "stdout",
          "output_type": "stream",
          "text": [
            "Downloading price data from yfinance...\n"
          ]
        },
        {
          "name": "stderr",
          "output_type": "stream",
          "text": [
            "C:\\Users\\Khush\\AppData\\Local\\Temp\\ipykernel_18036\\2763006813.py:10: FutureWarning: YF.download() has changed argument auto_adjust default to True\n",
            "  data = yf.download(PRICE_TICKER, start=START_DATE, end=END_DATE)\n",
            "[*********************100%***********************]  1 of 1 completed"
          ]
        },
        {
          "name": "stdout",
          "output_type": "stream",
          "text": [
            "Downloaded 3885 days of price data\n"
          ]
        },
        {
          "name": "stderr",
          "output_type": "stream",
          "text": [
            "\n"
          ]
        }
      ],
      "source": [
        "# Load Bitcoin price data either from a local CSV or yfinance\n",
        "if LOCAL_PRICE_CSV and os.path.exists(LOCAL_PRICE_CSV):\n",
        "   px = pd.read_csv(LOCAL_PRICE_CSV)\n",
        "   px['Date'] = pd.to_datetime(px['Date'], errors='coerce').dt.tz_localize(None)\n",
        "   if 'Close' not in px.columns:\n",
        "      raise ValueError(\"Local price CSV must have columns: Date, Close\")\n",
        "   px = px[['Date','Close']].dropna().sort_values('Date').reset_index(drop=True)\n",
        "else:\n",
        "   print(\"Downloading price data from yfinance...\")\n",
        "   data = yf.download(PRICE_TICKER, start=START_DATE, end=END_DATE)\n",
        "   \n",
        "   # If MultiIndex, flatten it\n",
        "   if isinstance(data.columns, pd.MultiIndex):\n",
        "       data.columns = ['_'.join(col).strip() if isinstance(col, tuple) else col for col in data.columns]\n",
        "   \n",
        "   # Find the close column \n",
        "   close_col = [c for c in data.columns if \"Close\" in c][0]\n",
        "   \n",
        "   # Build px dataframe\n",
        "   px = data.reset_index()[['Date', close_col]].rename(columns={close_col: 'Close'})\n",
        "   px['Date'] = pd.to_datetime(px['Date'], errors='coerce').dt.tz_localize(None)\n",
        "   px = px.dropna().sort_values('Date').reset_index(drop=True)\n",
        "   print(f\"Downloaded {len(px)} days of price data\")"
      ]
    },
    {
      "cell_type": "markdown",
      "metadata": {
        "id": "aptkkADZDeWb"
      },
      "source": [
        "Compute returns"
      ]
    },
    {
      "cell_type": "code",
      "execution_count": 10,
      "metadata": {
        "id": "XyClIdq3Dc5b"
      },
      "outputs": [],
      "source": [
        "px = px.dropna().sort_values('Date').reset_index(drop=True)\n",
        "px['Ret'] = px['Close'].pct_change()"
      ]
    },
    {
      "cell_type": "code",
      "execution_count": 11,
      "metadata": {
        "colab": {
          "base_uri": "https://localhost:8080/"
        },
        "id": "rVLf6lfqErSI",
        "outputId": "fa16768e-4137-4e6b-b2ec-f72d1a94013b"
      },
      "outputs": [
        {
          "name": "stdout",
          "output_type": "stream",
          "text": [
            "Price data summary:\n",
            "Date range: 2015-01-01 00:00:00 to 2025-08-20 00:00:00\n",
            "Total days: 3885\n",
            "Latest BTC price: $113614.20\n",
            "Available columns: ['Date', 'Close', 'Ret']\n",
            "\n",
            "First 5 rows with returns:\n"
          ]
        },
        {
          "data": {
            "text/html": [
              "<div>\n",
              "<style scoped>\n",
              "    .dataframe tbody tr th:only-of-type {\n",
              "        vertical-align: middle;\n",
              "    }\n",
              "\n",
              "    .dataframe tbody tr th {\n",
              "        vertical-align: top;\n",
              "    }\n",
              "\n",
              "    .dataframe thead th {\n",
              "        text-align: right;\n",
              "    }\n",
              "</style>\n",
              "<table border=\"1\" class=\"dataframe\">\n",
              "  <thead>\n",
              "    <tr style=\"text-align: right;\">\n",
              "      <th></th>\n",
              "      <th>Date</th>\n",
              "      <th>Close</th>\n",
              "      <th>Ret</th>\n",
              "    </tr>\n",
              "  </thead>\n",
              "  <tbody>\n",
              "    <tr>\n",
              "      <th>0</th>\n",
              "      <td>2015-01-01</td>\n",
              "      <td>314.248993</td>\n",
              "      <td>NaN</td>\n",
              "    </tr>\n",
              "    <tr>\n",
              "      <th>1</th>\n",
              "      <td>2015-01-02</td>\n",
              "      <td>315.032013</td>\n",
              "      <td>0.002492</td>\n",
              "    </tr>\n",
              "    <tr>\n",
              "      <th>2</th>\n",
              "      <td>2015-01-03</td>\n",
              "      <td>281.082001</td>\n",
              "      <td>-0.107767</td>\n",
              "    </tr>\n",
              "    <tr>\n",
              "      <th>3</th>\n",
              "      <td>2015-01-04</td>\n",
              "      <td>264.195007</td>\n",
              "      <td>-0.060079</td>\n",
              "    </tr>\n",
              "    <tr>\n",
              "      <th>4</th>\n",
              "      <td>2015-01-05</td>\n",
              "      <td>274.473999</td>\n",
              "      <td>0.038907</td>\n",
              "    </tr>\n",
              "  </tbody>\n",
              "</table>\n",
              "</div>"
            ],
            "text/plain": [
              "        Date       Close       Ret\n",
              "0 2015-01-01  314.248993       NaN\n",
              "1 2015-01-02  315.032013  0.002492\n",
              "2 2015-01-03  281.082001 -0.107767\n",
              "3 2015-01-04  264.195007 -0.060079\n",
              "4 2015-01-05  274.473999  0.038907"
            ]
          },
          "metadata": {},
          "output_type": "display_data"
        }
      ],
      "source": [
        "# Display information about the loaded price data\n",
        "print(\"Price data summary:\")\n",
        "print(f\"Date range: {px['Date'].min()} to {px['Date'].max()}\")\n",
        "print(f\"Total days: {len(px)}\")\n",
        "print(f\"Latest BTC price: ${px['Close'].iloc[-1]:.2f}\")\n",
        "print(f\"Available columns: {px.columns.tolist()}\")\n",
        "\n",
        "# Verify returns are calculated\n",
        "if 'Ret' not in px.columns:\n",
        "    px['Ret'] = px['Close'].pct_change()\n",
        "    \n",
        "print(f\"\\nFirst 5 rows with returns:\")\n",
        "display(px.head())"
      ]
    },
    {
      "cell_type": "markdown",
      "metadata": {
        "id": "EL7VOPwqDlBN"
      },
      "source": [
        "MERGE & FEATURE ENGINEERING"
      ]
    },
    {
      "cell_type": "code",
      "execution_count": 12,
      "metadata": {
        "id": "V0K9-mkoDoFN"
      },
      "outputs": [],
      "source": [
        "df = pd.merge_asof(sent.sort_values('Date'), px.sort_values('Date'), on='Date')\n",
        "# Forward-fill price rows missing due to non-overlapping calendars\n",
        "# (merge_asof aligns to nearest previous price date). Ensure returns computed later use price df directly.\n",
        "\n",
        "\n",
        "# Lag sentiment to avoid look-ahead bias: use yesterday's sentiment to trade today\n",
        "for lag in [0, 1, 2, 3, 5, 7]:\n",
        "  df[f'SentimentIndex_lag{lag}'] = df['SentimentIndex'].shift(lag)\n",
        "  df[f'SentimentScore_lag{lag}'] = df['SentimentScore'].shift(lag)\n",
        "\n",
        "\n",
        "# Rolling z-score of the numeric index (using lag1 to avoid peek)\n",
        "roll = 14\n",
        "df['SentIndex_lag1_znorm'] = (df['SentimentIndex_lag1'] - df['SentimentIndex_lag1'].rolling(90).mean()) \\\n",
        "                               / df['SentimentIndex_lag1'].rolling(90).std()\n",
        "\n",
        "\n",
        "# Label market up/down using next-day return (for supervised tasks)\n",
        "df['Ret_next'] = df['Ret'].shift(-1)\n",
        "df['UpNext'] = (df['Ret_next'] > 0).astype(int)"
      ]
    },
    {
      "cell_type": "markdown",
      "metadata": {
        "id": "J1Kc-P-r8FdX"
      },
      "source": [
        "4) SIGNALS (TRADER BEHAVIOURS)"
      ]
    },
    {
      "cell_type": "code",
      "execution_count": 13,
      "metadata": {
        "id": "oBIUyr-j8G48"
      },
      "outputs": [],
      "source": [
        "# Strategy A: Follower (Risk-on when Greed)\n",
        "# - If yesterday's sentiment is Greed (>=50), go long; else go flat.\n",
        "\n",
        "\n",
        "df['A_pos'] = (df['SentimentIndex_lag1'] >= 50).astype(int)\n",
        "\n",
        "\n",
        "# Strategy B: Contrarian (Buy Fear)\n",
        "# - If yesterday's sentiment <= 50 (Fear), go long; else flat.\n",
        "\n",
        "\n",
        "df['B_pos'] = (df['SentimentIndex_lag1'] <= 50).astype(int)\n",
        "\n",
        "\n",
        "# Strategy C: Extremes Mean-Reversion\n",
        "# - Long only when extreme fear (z < -1), flat otherwise\n",
        "\n",
        "\n",
        "df['C_pos'] = (df['SentIndex_lag1_znorm'] < -1.0).astype(int)\n",
        "\n",
        "\n",
        "# Buy & Hold benchmark\n",
        "px['BH_ret'] = px['Ret']\n",
        "\n",
        "\n",
        "# Align positions to price returns calendar\n",
        "# Align positions to price returns calendar\n",
        "pos = df[['Date','A_pos','B_pos','C_pos']].dropna()\n",
        "perf = pd.merge_asof(px[['Date','Ret']], pos, on='Date').fillna(0)\n",
        "\n",
        "# Buy & Hold strategy (always long)\n",
        "perf['BH_ret'] = perf['Ret']\n",
        "\n",
        "# Transaction costs for strategies\n",
        "for col in ['A_pos','B_pos','C_pos']:\n",
        "    # Strategy return = position(t-1) * ret(t)\n",
        "    perf[f'{col}_ret_gross'] = perf[col].shift(1) * perf['Ret']\n",
        "    # Turnover = position change\n",
        "    perf[f'{col}_turnover'] = (perf[col].shift(1).fillna(0) - perf[col]).abs()\n",
        "    # Apply cost\n",
        "    tc = (TX_COST_BPS/10000.0) * perf[f'{col}_turnover']\n",
        "    perf[f'{col}_ret_net'] = perf[f'{col}_ret_gross'] - tc\n",
        "\n",
        "# Buy & Hold has no turnover cost\n",
        "perf['BH_ret_net'] = perf['BH_ret']\n"
      ]
    },
    {
      "cell_type": "markdown",
      "metadata": {
        "id": "nSaPyoP79f33"
      },
      "source": [
        "5) PERFORMANCE METRICS"
      ]
    },
    {
      "cell_type": "code",
      "execution_count": 14,
      "metadata": {
        "colab": {
          "base_uri": "https://localhost:8080/"
        },
        "id": "JXzPQ3Sd9hnB",
        "outputId": "7c767630-9fc2-4479-e16b-8042bf45f4d7"
      },
      "outputs": [
        {
          "name": "stdout",
          "output_type": "stream",
          "text": [
            "==== Performance Summary ====\n",
            "       name      CAGR       Vol    Sharpe     MaxDD   HitRate    AvgWin  \\\n",
            "0  Buy&Hold  0.740325  0.680465  1.157016 -0.833990  0.528836  0.024120   \n",
            "1         A  0.240714  0.351531  0.787400 -0.492290  0.171988  0.023449   \n",
            "2         B -0.017254  0.422003  0.174955 -0.762276  0.199279  0.023330   \n",
            "3         C  0.029609  0.284296  0.251289 -0.552189  0.069258  0.027160   \n",
            "\n",
            "    AvgLoss  \n",
            "0 -0.022494  \n",
            "1 -0.003955  \n",
            "2 -0.005554  \n",
            "3 -0.001811  \n"
          ]
        }
      ],
      "source": [
        "\n",
        "def perf_stats(returns, freq=365, name='strategy'):\n",
        "    r = returns.dropna()\n",
        "    if len(r) == 0:\n",
        "        return {'name': name, 'CAGR': np.nan, 'Vol': np.nan, 'Sharpe': np.nan,\n",
        "                'MaxDD': np.nan, 'HitRate': np.nan, 'AvgWin': np.nan, 'AvgLoss': np.nan}\n",
        "    # CAGR\n",
        "    cum = (1 + r).prod()\n",
        "    years = max((r.index[-1] - r.index[0]).days, 1) / 365.25\n",
        "    cagr = cum ** (1 / years) - 1 if years > 0 else np.nan\n",
        "    # Vol & Sharpe\n",
        "    vol = r.std() * np.sqrt(freq)\n",
        "    sharpe = (r.mean() * freq - RISK_FREE * freq) / (r.std() * np.sqrt(freq)) if r.std() > 0 else np.nan\n",
        "    # Max Drawdown\n",
        "    eq = (1 + r).cumprod()\n",
        "    dd = (eq / eq.cummax() - 1).min()\n",
        "    # Hit Rate / Avg win-loss\n",
        "    wins, losses = r[r > 0], r[r <= 0]\n",
        "    hit = len(wins) / len(r) if len(r) else np.nan\n",
        "    return {'name': name, 'CAGR': cagr, 'Vol': vol, 'Sharpe': sharpe,\n",
        "            'MaxDD': dd, 'HitRate': hit,\n",
        "            'AvgWin': wins.mean() if len(wins) else np.nan,\n",
        "            'AvgLoss': losses.mean() if len(losses) else np.nan}\n",
        "\n",
        "# Build summary table\n",
        "perf = perf.dropna().copy()\n",
        "perf.index = pd.to_datetime(perf['Date'])\n",
        "\n",
        "rows = [perf_stats(perf['BH_ret_net'], name='Buy&Hold')]\n",
        "for col in ['A_pos', 'B_pos', 'C_pos']:\n",
        "    rows.append(perf_stats(perf[f'{col}_ret_net'], name=col.replace('_pos', '')))\n",
        "stats_df = pd.DataFrame(rows)\n",
        "\n",
        "print(\"==== Performance Summary ====\")\n",
        "print(stats_df)\n",
        "stats_df.to_csv('strategy_performance_summary.csv', index=False)\n"
      ]
    },
    {
      "cell_type": "markdown",
      "metadata": {
        "id": "t-SrunDQB07n"
      },
      "source": [
        "6)Statistical Relationships (IC, regimes, lags, t-tests)"
      ]
    },
    {
      "cell_type": "code",
      "execution_count": 15,
      "metadata": {
        "colab": {
          "base_uri": "https://localhost:8080/"
        },
        "id": "cfQO1fzwB8dh",
        "outputId": "0d8c7965-3e1a-4ee1-a9f6-736c44bc772b"
      },
      "outputs": [
        {
          "name": "stdout",
          "output_type": "stream",
          "text": [
            "IC (Pearson) Sentiment vs Next-day returns: 0.0380\n",
            "IC (Spearman) Sentiment vs Next-day returns: 0.0258\n",
            "\n",
            "Average daily return by sentiment regime:\n",
            " Regime\n",
            "Fear            -0.001225\n",
            "Extreme Fear     0.001382\n",
            "Neutral          0.001824\n",
            "Greed            0.003268\n",
            "Extreme Greed    0.003482\n",
            "Name: Ret, dtype: float64\n",
            "Paired t-test A (Follower) vs Buy&Hold: t=-2.855, p=0.0043\n",
            "Paired t-test B (Contrarian) vs Buy&Hold: t=-4.358, p=0.0000\n",
            "Paired t-test C (ExtFear) vs Buy&Hold: t=-3.777, p=0.0002\n"
          ]
        },
        {
          "name": "stderr",
          "output_type": "stream",
          "text": [
            "C:\\Users\\Khush\\AppData\\Local\\Temp\\ipykernel_18036\\4207286279.py:14: FutureWarning: The default of observed=False is deprecated and will be changed to True in a future version of pandas. Pass observed=False to retain current behavior or observed=True to adopt the future default and silence this warning.\n",
            "  cond_returns = cond.groupby('Regime')['Ret'].mean().sort_values()\n"
          ]
        }
      ],
      "source": [
        "\n",
        "# IC: Sentiment vs next-day returns\n",
        "merged = pd.merge_asof(px[['Date', 'Ret']], df[['Date', 'SentimentIndex']], on='Date')\n",
        "merged['Ret_next'] = merged['Ret'].shift(-1)\n",
        "IC_pearson = merged[['SentimentIndex', 'Ret_next']].corr().iloc[0, 1]\n",
        "IC_spearman = merged[['SentimentIndex', 'Ret_next']].corr(method='spearman').iloc[0, 1]\n",
        "print(f\"IC (Pearson) Sentiment vs Next-day returns: {IC_pearson:.4f}\")\n",
        "print(f\"IC (Spearman) Sentiment vs Next-day returns: {IC_spearman:.4f}\")\n",
        "\n",
        "# Conditional returns by regime\n",
        "bins = [-np.inf, 25, 45, 55, 75, np.inf]\n",
        "labels = ['Extreme Fear', 'Fear', 'Neutral', 'Greed', 'Extreme Greed']\n",
        "df['Regime'] = pd.cut(df['SentimentIndex'], bins=bins, labels=labels)\n",
        "cond = pd.merge_asof(px[['Date', 'Ret']], df[['Date', 'Regime']], on='Date')\n",
        "cond_returns = cond.groupby('Regime')['Ret'].mean().sort_values()\n",
        "print(\"\\nAverage daily return by sentiment regime:\\n\", cond_returns)\n",
        "cond_returns.to_csv('conditional_returns_by_regime.csv')\n",
        "\n",
        "# Lag analysis: sentiment lead/lag vs returns\n",
        "lags = range(-14, 15)\n",
        "lag_corrs = []\n",
        "for L in lags:\n",
        "    lag_corrs.append(merged['SentimentIndex'].shift(-L).corr(merged['Ret']))\n",
        "lag_df = pd.DataFrame({'lag_days': list(lags), 'corr': lag_corrs})\n",
        "lag_df.to_csv('lag_correlation_sentiment_vs_returns.csv', index=False)\n",
        "\n",
        "# Paired t-test: strategies vs Buy&Hold\n",
        "for name, sr in [\n",
        "    ('A (Follower)', perf['A_pos_ret_net']),\n",
        "    ('B (Contrarian)', perf['B_pos_ret_net']),\n",
        "    ('C (ExtFear)', perf['C_pos_ret_net'])\n",
        "]:\n",
        "    sr = sr.dropna()\n",
        "    bh = perf['BH_ret_net'].dropna()\n",
        "    common = sr.index.intersection(bh.index)\n",
        "    tstat, pval = stats.ttest_rel(sr.loc[common], bh.loc[common], nan_policy='omit')\n",
        "    print(f\"Paired t-test {name} vs Buy&Hold: t={tstat:.3f}, p={pval:.4f}\")\n"
      ]
    },
    {
      "cell_type": "markdown",
      "metadata": {
        "id": "a86Jp__tCnG0"
      },
      "source": [
        "7) PLOTS"
      ]
    },
    {
      "cell_type": "code",
      "execution_count": 16,
      "metadata": {
        "colab": {
          "base_uri": "https://localhost:8080/",
          "height": 1000
        },
        "id": "GKAzF4jzCoT0",
        "outputId": "edb127fe-1583-4a68-d2bc-4dd72f7c2c0b"
      },
      "outputs": [
        {
          "data": {
            "image/png": "[encoded data removed]",
            "text/plain": [
              "<Figure size 1200x500 with 1 Axes>"
            ]
          },
          "metadata": {},
          "output_type": "display_data"
        },
        {
          "data": {
            "image/png": "[encoded data removed]",
            "text/plain": [
              "<Figure size 800x400 with 1 Axes>"
            ]
          },
          "metadata": {},
          "output_type": "display_data"
        },
        {
          "data": {
            "image/png": "[encoded data removed]",
            "text/plain": [
              "<Figure size 900x400 with 1 Axes>"
            ]
          },
          "metadata": {},
          "output_type": "display_data"
        }
      ],
      "source": [
        "\n",
        "if MAX_PLOTS:\n",
        "    # Equity curves\n",
        "    eq = pd.DataFrame(index=perf.index)\n",
        "    eq['Buy&Hold'] = (1 + perf['BH_ret_net']).cumprod()\n",
        "    eq['Follower (A)'] = (1 + perf['A_pos_ret_net']).cumprod()\n",
        "    eq['Contrarian (B)'] = (1 + perf['B_pos_ret_net']).cumprod()\n",
        "    eq['ExtFear (C)'] = (1 + perf['C_pos_ret_net']).cumprod()\n",
        "\n",
        "    plt.figure(figsize=(12, 5))\n",
        "    eq.plot(ax=plt.gca(), linewidth=1.2)\n",
        "    plt.title('Equity Curves: Sentiment Strategies vs Buy & Hold')\n",
        "    plt.ylabel('Growth of $1')\n",
        "    plt.xlabel('Date')\n",
        "    plt.grid(True, alpha=0.3)\n",
        "    plt.tight_layout()\n",
        "    plt.show()\n",
        "\n",
        "    # Conditional returns bar chart\n",
        "    plt.figure(figsize=(8, 4))\n",
        "    cond_returns.plot(kind='bar', ax=plt.gca())\n",
        "    plt.title('Average Daily Return by Sentiment Regime')\n",
        "    plt.ylabel('Mean Daily Return')\n",
        "    plt.grid(True, axis='y', alpha=0.3)\n",
        "    plt.tight_layout()\n",
        "    plt.show()\n",
        "\n",
        "    # Lag correlation plot\n",
        "    plt.figure(figsize=(9, 4))\n",
        "    plt.plot(lag_df['lag_days'], lag_df['corr'])\n",
        "    plt.axhline(0, linestyle='--', linewidth=1)\n",
        "    plt.title('Lag Correlation: Sentiment vs Same-day Returns')\n",
        "    plt.xlabel('Lag (days): positive ⇒ sentiment leads returns')\n",
        "    plt.ylabel('Correlation')\n",
        "    plt.grid(True, alpha=0.3)\n",
        "    plt.tight_layout()\n",
        "    plt.show()\n"
      ]
    },
    {
      "cell_type": "code",
      "execution_count": 18,
      "metadata": {},
      "outputs": [
        {
          "name": "stdout",
          "output_type": "stream",
          "text": [
            "High-resolution plots saved to output directory:\n"
          ]
        }
      ],
      "source": [
        "# Save plots as high-quality images in the output directory\n",
        "import os\n",
        "\n",
        "# Ensure output directory exists\n",
        "output_dir = os.path.join(os.path.dirname(os.path.abspath('__file__')), 'output')\n",
        "if not os.path.exists(output_dir):\n",
        "    os.makedirs(output_dir)\n",
        "\n",
        "# Re-create plots with high DPI for better quality\n",
        "# 1. Equity Curve\n",
        "plt.figure(figsize=(12, 6))\n",
        "eq.plot(ax=plt.gca(), linewidth=1.5)\n",
        "plt.title('Equity Curves: Sentiment Strategies vs Buy & Hold', fontsize=14)\n",
        "plt.ylabel('Growth of $1', fontsize=12)\n",
        "plt.xlabel('Date', fontsize=12)\n",
        "plt.grid(True, alpha=0.3)\n",
        "plt.tight_layout()\n",
        "plt.savefig(os.path.join(output_dir, 'EquityCurve_highres.png'), dpi=300, bbox_inches='tight')\n",
        "plt.close()\n",
        "\n",
        "# 2. Conditional Returns\n",
        "plt.figure(figsize=(10, 5))\n",
        "cond_returns.plot(kind='bar', ax=plt.gca())\n",
        "plt.title('Average Daily Return by Sentiment Regime', fontsize=14)\n",
        "plt.ylabel('Mean Daily Return', fontsize=12)\n",
        "plt.grid(True, axis='y', alpha=0.3)\n",
        "plt.tight_layout()\n",
        "plt.savefig(os.path.join(output_dir, 'ConditionalReturns_highres.png'), dpi=300, bbox_inches='tight')\n",
        "plt.close()\n",
        "\n",
        "# 3. Lag Correlation\n",
        "plt.figure(figsize=(10, 5))\n",
        "plt.plot(lag_df['lag_days'], lag_df['corr'], linewidth=2)\n",
        "plt.axhline(0, linestyle='--', linewidth=1, color='gray')\n",
        "plt.title('Lag Correlation: Sentiment vs Returns', fontsize=14)\n",
        "plt.xlabel('Lag (days): positive ⇒ sentiment leads returns', fontsize=12)\n",
        "plt.ylabel('Correlation', fontsize=12)\n",
        "plt.grid(True, alpha=0.3)\n",
        "plt.tight_layout()\n",
        "plt.savefig(os.path.join(output_dir, 'LagCorrelation_highres.png'), dpi=300, bbox_inches='tight')\n",
        "plt.close()\n",
        "\n",
        "print(\"High-resolution plots saved to output directory:\")"
      ]
    },
    {
      "cell_type": "code",
      "execution_count": 2,
      "metadata": {},
      "outputs": [
        {
          "name": "stdout",
          "output_type": "stream",
          "text": [
            "Notebook exported as HTML: c:\\Users\\Khush\\OneDrive\\Documents\\ds_khushbooKumari\\output\\Bitcoin_Fear_Greed_Analysis.html\n"
          ]
        }
      ],
      "source": [
        "# Export the notebook as HTML for easy sharing\n",
        "import os\n",
        "import subprocess\n",
        "\n",
        "# Define the output directory\n",
        "output_dir = os.path.join(os.path.dirname(os.path.abspath('__file__')), 'output')\n",
        "if not os.path.exists(output_dir):\n",
        "    os.makedirs(output_dir)\n",
        "\n",
        "# Define the output path\n",
        "output_html_path = os.path.join(output_dir, 'Bitcoin_Fear_Greed_Analysis.html')\n",
        "\n",
        "# Use nbconvert to convert notebook to HTML\n",
        "try:\n",
        "    import nbformat\n",
        "    from nbconvert import HTMLExporter\n",
        "    \n",
        "    # Read the notebook\n",
        "    with open('Notebook_1.ipynb', 'r', encoding='utf-8') as f:\n",
        "        nb = nbformat.read(f, as_version=4)\n",
        "    \n",
        "    # Configure the HTML exporter\n",
        "    html_exporter = HTMLExporter()\n",
        "    html_exporter.template_name = 'classic'  # Use the classic template\n",
        "    \n",
        "    # Export to HTML\n",
        "    (html_output, resources) = html_exporter.from_notebook_node(nb)\n",
        "    \n",
        "    # Write HTML to file\n",
        "    with open(output_html_path, 'w', encoding='utf-8') as f:\n",
        "        f.write(html_output)\n",
        "    \n",
        "    print(f\"Notebook exported as HTML: {output_html_path}\")\n",
        "    \n",
        "except ImportError:\n",
        "    print(\"nbconvert not installed. Installing and trying again...\")\n",
        "    \n",
        "    # Alternate method using command line\n",
        "    try:\n",
        "        cmd = f\"jupyter nbconvert --to html --output-dir=\\\"{output_dir}\\\" --output=\\\"Bitcoin_Fear_Greed_Analysis.html\\\" Notebook_1.ipynb\"\n",
        "        subprocess.run(cmd, shell=True, check=True)\n",
        "        print(f\"Notebook exported as HTML: {output_html_path}\")\n",
        "    except Exception as e:\n",
        "        print(f\"Failed to export notebook: {e}\")"
      ]
    },
    {
      "cell_type": "markdown",
      "metadata": {
        "id": "ZxslmLeWC39K"
      },
      "source": [
        "8) EXPORTS"
      ]
    },
    {
      "cell_type": "code",
      "execution_count": 2,
      "metadata": {},
      "outputs": [
        {
          "name": "stdout",
          "output_type": "stream",
          "text": [
            "Output directory: c:\\Users\\Khush\\OneDrive\\Documents\\ds_khushbooKumari\\output\n"
          ]
        }
      ],
      "source": [
        "# Create an output directory if it doesn't exist\n",
        "import os\n",
        "\n",
        "output_dir = os.path.join(os.path.dirname(os.path.abspath('__file__')), 'output')\n",
        "if not os.path.exists(output_dir):\n",
        "    os.makedirs(output_dir)\n",
        "    \n",
        "print(f\"Output directory: {output_dir}\")"
      ]
    },
    {
      "cell_type": "markdown",
      "metadata": {
        "id": "sR4ulWnEC0Dn"
      },
      "source": []
    },
    {
      "cell_type": "code",
      "execution_count": 17,
      "metadata": {
        "colab": {
          "base_uri": "https://localhost:8080/"
        },
        "id": "ZlVg_n05C0-p",
        "outputId": "ec1502fe-4af1-4a2a-be33-b8b07478199d"
      },
      "outputs": [
        {
          "name": "stdout",
          "output_type": "stream",
          "text": [
            "Saved files to output directory:\n",
            "- c:\\Users\\Khush\\OneDrive\\Documents\\ds_khushbooKumari\\output\\strategy_performance_summary.csv\n",
            "- c:\\Users\\Khush\\OneDrive\\Documents\\ds_khushbooKumari\\output\\conditional_returns_by_regime.csv\n",
            "- c:\\Users\\Khush\\OneDrive\\Documents\\ds_khushbooKumari\\output\\lag_correlation_sentiment_vs_returns.csv\n",
            "- c:\\Users\\Khush\\OneDrive\\Documents\\ds_khushbooKumari\\output\\panel_sentiment_price.csv\n"
          ]
        }
      ],
      "source": [
        "# Save output files to the output directory\n",
        "import os\n",
        "\n",
        "# Define the output directory\n",
        "output_dir = os.path.join(os.path.dirname(os.path.abspath('__file__')), 'output')\n",
        "\n",
        "# Create panel dataframe from the price and sentiment data\n",
        "panel = pd.merge_asof(\n",
        "    px[['Date', 'Close', 'Ret']],\n",
        "    df[['Date', 'SentimentIndex', 'Regime']],\n",
        "    on='Date'\n",
        ")\n",
        "\n",
        "# Define output files\n",
        "output_files = [\n",
        "    'strategy_performance_summary.csv',\n",
        "    'conditional_returns_by_regime.csv',\n",
        "    'lag_correlation_sentiment_vs_returns.csv',\n",
        "    'panel_sentiment_price.csv'\n",
        "]\n",
        "\n",
        "# Save each file to the output directory\n",
        "panel.to_csv(os.path.join(output_dir, 'panel_sentiment_price.csv'), index=False)\n",
        "stats_df.to_csv(os.path.join(output_dir, 'strategy_performance_summary.csv'), index=False)\n",
        "cond_returns.to_csv(os.path.join(output_dir, 'conditional_returns_by_regime.csv'))\n",
        "lag_df.to_csv(os.path.join(output_dir, 'lag_correlation_sentiment_vs_returns.csv'), index=False)\n",
        "\n",
        "print(\"Saved files to output directory:\")\n",
        "for file in output_files:\n",
        "    file_path = os.path.join(output_dir, file)\n",
        "    print(f\"- {file_path}\")"
      ]
    },
    {
      "cell_type": "markdown",
      "metadata": {},
      "source": [
        "# Save Your Work\n",
        "\n",
        "To save this notebook to your Google Drive:\n",
        "\n",
        "1. Click on `File` > `Save a copy in Drive`\n",
        "2. This will create a copy of the notebook in your Google Drive\n",
        "\n",
        "Alternatively, to download the notebook to your local machine:\n",
        "\n",
        "1. Click on `File` > `Download` > `Download .ipynb`"
      ]
    }
  ],
  "metadata": {
    "colab": {
      "provenance": []
    },
    "kernelspec": {
      "display_name": ".venv",
      "language": "python",
      "name": "python3"
    },
    "language_info": {
      "codemirror_mode": {
        "name": "ipython",
        "version": 3
      },
      "file_extension": ".py",
      "mimetype": "text/x-python",
      "name": "python",
      "nbconvert_exporter": "python",
      "pygments_lexer": "ipython3",
      "version": "3.12.6"
    }
  },
  "nbformat": 4,
  "nbformat_minor": 0
}
